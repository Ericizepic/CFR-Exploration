{
 "cells": [
  {
   "cell_type": "markdown",
   "metadata": {},
   "source": [
    "Colonel Blotto and his arch-enemy, Boba Fett, are at war. Each commander has S soldiers in total,\n",
    "and each soldier can be assigned to one of $N<S$ battlefields. Naturally, these commanders do not\n",
    "communicate and hence direct their soldiers independently. Any number of soldiers can be allocated\n",
    "to each battlefield, including zero. A commander claims a battlefield if they send more soldiers to\n",
    "the battlefield than their opponent. The commander’s job is to break down his pool of soldiers into\n",
    "groups to which he assigned to each battlefield. The winning commander is the one who claims the\n",
    "most battlefields. For example, with (S, N) = (10, 4) a Colonel Blotto may choose to play (2, 2, 2, 4)\n",
    "while Boba Fett may choose to play (8, 1, 1, 0). In this case, Colonel Blotto would win by claiming\n",
    "three of the four battlefields. The war ends in a draw if both commanders claim the same number of\n",
    "battlefields."
   ]
  },
  {
   "cell_type": "code",
   "execution_count": 21,
   "metadata": {},
   "outputs": [],
   "source": [
    "import numpy as np\n",
    "import random as rand\n",
    "from tqdm import tqdm"
   ]
  },
  {
   "cell_type": "code",
   "execution_count": 50,
   "metadata": {},
   "outputs": [],
   "source": [
    "# Hard coded for case where S = 5 and N = 3\n",
    "class ColonelBlotto:\n",
    "   def __init__(self):\n",
    "      self.states = {}\n",
    "      self.NUM_ACTIONS = 0\n",
    "      for i in range(0,6):\n",
    "         for j in range(0,6-i):\n",
    "               self.states[self.NUM_ACTIONS] = (i, j, 5-i-j)\n",
    "               self.NUM_ACTIONS += 1\n",
    "      \n",
    "      self.strategySum = np.zeros(self.NUM_ACTIONS)\n",
    "      self.regretSum = np.zeros(self.NUM_ACTIONS)\n",
    "\n",
    "   def get_strat(self):\n",
    "      strat = [i if i > 0 else 0 for i in self.regretSum]\n",
    "\n",
    "      if sum(strat) == 0:\n",
    "         strat = np.ones(self.NUM_ACTIONS)/self.NUM_ACTIONS\n",
    "      else:\n",
    "         strat = strat/sum(strat)\n",
    "\n",
    "      self.strategySum += strat\n",
    "\n",
    "      return strat\n",
    "\n",
    "\n",
    "   def get_action(self, strat):\n",
    "      return np.random.choice(range(self.NUM_ACTIONS), p = strat)\n",
    "   \n",
    "   def get_utility_array(self, opp_action):\n",
    "      utils = np.zeros(self.NUM_ACTIONS)\n",
    "      opp_army = self.states[opp_action]\n",
    "\n",
    "      for i in range(len(utils)):\n",
    "         my_army = self.states[i]\n",
    "         for (a,b) in zip(my_army, opp_army):\n",
    "            if a > b: \n",
    "               utils[i] += 1\n",
    "            if a < b: \n",
    "               utils[i] -= 1\n",
    "\n",
    "      return utils\n",
    "   \n",
    "   def update_regrets(self, my_action, action_utilities):\n",
    "      for i in range(self.NUM_ACTIONS):\n",
    "         self.regretSum[i] += action_utilities[i] - action_utilities[my_action]\n",
    "\n",
    "   def getAverageStrategy(self):\n",
    "      avgStrategy = [i if i > 0 else 0 for i in self.strategySum]\n",
    "\n",
    "      if sum(avgStrategy) > 0:\n",
    "         avgStrategy = avgStrategy/sum(avgStrategy)\n",
    "      else:\n",
    "         avgStrategy = np.ones(self.NUM_ACTIONS)/self.NUM_ACTIONS\n",
    "      \n",
    "      return avgStrategy"
   ]
  },
  {
   "cell_type": "code",
   "execution_count": 23,
   "metadata": {},
   "outputs": [],
   "source": [
    "def train(p1 : ColonelBlotto, p2: ColonelBlotto, epochs : int):\n",
    "    for i in tqdm(range(epochs)):\n",
    "        p1_strat = p1.get_strat()\n",
    "        p2_strat = p2.get_strat()\n",
    "        p1_action = p1.get_action(p1_strat)\n",
    "        p2_action = p2.get_action(p2_strat)\n",
    "\n",
    "        action_utilities_1 = p1.get_utility_array(p2_action)\n",
    "        action_utilities_2 = p2.get_utility_array(p1_action)\n",
    "\n",
    "        p1.update_regrets(p1_action, action_utilities_1)\n",
    "        p2.update_regrets(p2_action, action_utilities_2)"
   ]
  },
  {
   "cell_type": "code",
   "execution_count": 56,
   "metadata": {},
   "outputs": [
    {
     "name": "stderr",
     "output_type": "stream",
     "text": [
      "100%|██████████| 1000000/1000000 [01:08<00:00, 14556.51it/s]\n"
     ]
    }
   ],
   "source": [
    "p1 = ColonelBlotto()\n",
    "p2 = ColonelBlotto()\n",
    "\n",
    "train(p1, p2, 1000000)"
   ]
  },
  {
   "cell_type": "code",
   "execution_count": 57,
   "metadata": {},
   "outputs": [
    {
     "name": "stdout",
     "output_type": "stream",
     "text": [
      "(0, 2, 3) 0.11755366368157785\n",
      "(0, 3, 2) 0.10342614676092338\n",
      "(1, 1, 3) 0.10895944510060597\n",
      "(1, 3, 1) 0.11797041474666159\n",
      "(2, 0, 3) 0.11208540538714598\n",
      "(2, 3, 0) 0.11027568174949157\n",
      "(3, 0, 2) 0.10922596100949618\n",
      "(3, 1, 1) 0.11611928097536584\n",
      "(3, 2, 0) 0.10436001057034618\n"
     ]
    }
   ],
   "source": [
    "nash1 = p1.getAverageStrategy()\n",
    "\n",
    "for i,p in enumerate(nash1):\n",
    "    if p > 0.01:\n",
    "        print(p1.states[i], p)"
   ]
  },
  {
   "cell_type": "code",
   "execution_count": 58,
   "metadata": {},
   "outputs": [
    {
     "name": "stdout",
     "output_type": "stream",
     "text": [
      "(0, 2, 3) 0.11500439601409777\n",
      "(0, 3, 2) 0.10584833971572975\n",
      "(1, 1, 3) 0.11250868241723966\n",
      "(1, 3, 1) 0.1145796191246138\n",
      "(2, 0, 3) 0.10686288993853836\n",
      "(2, 3, 0) 0.11204836672674937\n",
      "(3, 0, 2) 0.11316198628717061\n",
      "(3, 1, 1) 0.11369029421570248\n",
      "(3, 2, 0) 0.10623488651242435\n"
     ]
    }
   ],
   "source": [
    "nash2 = p2.getAverageStrategy()\n",
    "\n",
    "for i,p in enumerate(nash2):\n",
    "    if p > 0.01:\n",
    "        print(p2.states[i], p)"
   ]
  }
 ],
 "metadata": {
  "kernelspec": {
   "display_name": "Python 3",
   "language": "python",
   "name": "python3"
  },
  "language_info": {
   "codemirror_mode": {
    "name": "ipython",
    "version": 3
   },
   "file_extension": ".py",
   "mimetype": "text/x-python",
   "name": "python",
   "nbconvert_exporter": "python",
   "pygments_lexer": "ipython3",
   "version": "3.12.4"
  }
 },
 "nbformat": 4,
 "nbformat_minor": 2
}
